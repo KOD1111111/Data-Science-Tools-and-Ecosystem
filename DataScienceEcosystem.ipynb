{
 "cells": [
  {
   "cell_type": "markdown",
   "id": "e0ab85c0-1ae6-4b96-bdae-252a932f7fc3",
   "metadata": {},
   "source": [
    "# Data Science Tools and Ecosystem"
   ]
  },
  {
   "cell_type": "markdown",
   "id": "1715b086-03e4-47c2-923d-b3b53e62d043",
   "metadata": {},
   "source": [
    "## In this notebook, Data Science Tools and Ecosystem are summarized."
   ]
  },
  {
   "cell_type": "markdown",
   "id": "b02532e0-c828-496c-affb-e1272e8dbc91",
   "metadata": {},
   "source": [
    "### Some of the popular languages that Data Scientists use are:"
   ]
  },
  {
   "cell_type": "markdown",
   "id": "2d469886-87c0-462b-9eef-d0cf105d85dc",
   "metadata": {},
   "source": [
    "##### <font color=purple> ordered list</font>"
   ]
  },
  {
   "cell_type": "markdown",
   "id": "e9996c3e-817a-4f9b-bad0-af263b38cdfc",
   "metadata": {},
   "source": [
    "1. Python\n",
    "2. SQL\n",
    "3. R"
   ]
  },
  {
   "cell_type": "markdown",
   "id": "750e59f2-2a88-4b3d-80ea-45f0427d9cb8",
   "metadata": {},
   "source": [
    "### Some of the commonly used libraries used by Data Scientists include:"
   ]
  },
  {
   "cell_type": "markdown",
   "id": "c19357ed-3f67-48ae-8f5c-d322651b4a38",
   "metadata": {},
   "source": [
    "##### <font color=purple> ordered list</font>"
   ]
  },
  {
   "cell_type": "markdown",
   "id": "8e538f89-8338-4a07-8300-82b8b0e8a4a1",
   "metadata": {},
   "source": [
    "1. ggplot2\n",
    "2. Pandas\n",
    "3. TensorFlow"
   ]
  },
  {
   "cell_type": "markdown",
   "id": "0ff7fa9b-ca2a-4716-a5e4-b1541792ad54",
   "metadata": {},
   "source": [
    "### Data Science Tools"
   ]
  },
  {
   "cell_type": "markdown",
   "id": "e0fb5471-e06a-432e-84ba-41a69add278f",
   "metadata": {},
   "source": [
    "|Data Science Tools|\n",
    "|------------------|\n",
    "|Apache Spark|\n",
    "|MySQL|\n",
    "|Kylo|\n"
   ]
  },
  {
   "cell_type": "markdown",
   "id": "0f708137-bdde-484a-b900-299208cf5fb7",
   "metadata": {},
   "source": [
    "### Below are a few examples of evaluating arithmetic expressions in Python"
   ]
  },
  {
   "cell_type": "code",
   "execution_count": 6,
   "id": "04284fcd-3729-4f05-a7e0-84f6871592f2",
   "metadata": {
    "tags": []
   },
   "outputs": [
    {
     "data": {
      "text/plain": [
       "17"
      ]
     },
     "execution_count": 6,
     "metadata": {},
     "output_type": "execute_result"
    }
   ],
   "source": [
    "(3*4)+5"
   ]
  },
  {
   "cell_type": "markdown",
   "id": "2755a5ce-7193-4c49-9def-9cc2711a4fca",
   "metadata": {},
   "source": [
    "###  This will convert 200 minutes to hours by dividing by 60"
   ]
  },
  {
   "cell_type": "code",
   "execution_count": 3,
   "id": "4672db5f-090f-4b01-a834-3518b304dffc",
   "metadata": {
    "tags": []
   },
   "outputs": [
    {
     "data": {
      "text/plain": [
       "3.3333333333333335"
      ]
     },
     "execution_count": 3,
     "metadata": {},
     "output_type": "execute_result"
    }
   ],
   "source": [
    "200/60"
   ]
  },
  {
   "cell_type": "markdown",
   "id": "d34c2e83-5209-4fff-8dce-756a4f581e60",
   "metadata": {},
   "source": [
    "## In this notebook, Data Science Tools and Ecosystem are summarized."
   ]
  },
  {
   "cell_type": "markdown",
   "id": "3c3e8a1c-36ad-4e99-9004-fca4e882319a",
   "metadata": {},
   "source": [
    "**Objectives:**"
   ]
  },
  {
   "cell_type": "markdown",
   "id": "88e4942f-8485-4127-9f61-4d422cb55348",
   "metadata": {},
   "source": [
    "* List popular tools in data science\n",
    "* Do simple arithmetic\n",
    "* Write a title"
   ]
  },
  {
   "cell_type": "markdown",
   "id": "2c06bf13-dc7c-478c-82f1-0c0735a2fc63",
   "metadata": {},
   "source": [
    "## Author"
   ]
  },
  {
   "cell_type": "markdown",
   "id": "699b77a2-362e-4c96-82d4-1022f285ba4e",
   "metadata": {},
   "source": [
    "#### <font color=Turquoise> Kelly Duro</font>"
   ]
  },
  {
   "cell_type": "code",
   "execution_count": null,
   "id": "091f45ab-c17f-4f41-a4ac-28f50e46b56b",
   "metadata": {},
   "outputs": [],
   "source": []
  }
 ],
 "metadata": {
  "kernelspec": {
   "display_name": "Python",
   "language": "python",
   "name": "conda-env-python-py"
  },
  "language_info": {
   "codemirror_mode": {
    "name": "ipython",
    "version": 3
   },
   "file_extension": ".py",
   "mimetype": "text/x-python",
   "name": "python",
   "nbconvert_exporter": "python",
   "pygments_lexer": "ipython3",
   "version": "3.7.12"
  }
 },
 "nbformat": 4,
 "nbformat_minor": 5
}
